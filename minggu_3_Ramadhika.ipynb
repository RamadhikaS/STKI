{
  "nbformat": 4,
  "nbformat_minor": 0,
  "metadata": {
    "colab": {
      "provenance": [],
      "authorship_tag": "ABX9TyN+77W0KEDA1M+DnKHeMPIn",
      "include_colab_link": true
    },
    "kernelspec": {
      "name": "python3",
      "display_name": "Python 3"
    },
    "language_info": {
      "name": "python"
    }
  },
  "cells": [
    {
      "cell_type": "markdown",
      "metadata": {
        "id": "view-in-github",
        "colab_type": "text"
      },
      "source": [
        "<a href=\"https://colab.research.google.com/github/RamadhikaS/STKI/blob/main/minggu_3_Ramadhika.ipynb\" target=\"_parent\"><img src=\"https://colab.research.google.com/assets/colab-badge.svg\" alt=\"Open In Colab\"/></a>"
      ]
    },
    {
      "cell_type": "code",
      "execution_count": 3,
      "metadata": {
        "colab": {
          "base_uri": "https://localhost:8080/"
        },
        "id": "IbjkNLGwkZ9Y",
        "outputId": "e669e992-4ba5-446d-dcc6-55eecd3e551c"
      },
      "outputs": [
        {
          "output_type": "stream",
          "name": "stdout",
          "text": [
            "===== Incidence Matrix =====\n",
            "           Doc 1  Doc 2  Doc 3  Doc 4\n",
            "forecasts      1      0      0      0\n",
            "home           1      1      1      1\n",
            "in             0      1      1      0\n",
            "increase       0      0      1      0\n",
            "july           0      1      1      1\n",
            "new            1      0      0      1\n",
            "rise           0      1      0      1\n",
            "sales          1      1      1      1\n",
            "top            1      0      0      0\n",
            "\n",
            "========================================\n",
            "\n",
            "===== Query 1: Home AND Sales AND NOT July =====\n",
            "Dokumen yang cocok: ['Doc 1']\n",
            "\n",
            "===== Query 2: Home AND July AND NOT Sales =====\n",
            "Dokumen yang cocok: Tidak ada\n"
          ]
        }
      ],
      "source": [
        "# Ramadhika Surya Purmiadanu\n",
        "# A11.2022.14116\n",
        "\n",
        "import pandas as pd\n",
        "\n",
        "# MEMBUAT INCIDENCE MATRIX\n",
        "\n",
        "# Data dokumen dari soal\n",
        "documents = {\n",
        "    'Doc 1': 'New home sales top forecasts',\n",
        "    'Doc 2': 'Home sales rise in july',\n",
        "    'Doc 3': 'Increase in home sales in july',\n",
        "    'Doc 4': 'July new home sales rise'\n",
        "}\n",
        "\n",
        "# Kumpulkan semua kata unik (vocabulary)\n",
        "all_words = set()\n",
        "for doc_content in documents.values():\n",
        "    words = doc_content.lower().split()\n",
        "    all_words.update(words)\n",
        "\n",
        "# Urutkan vocabulary agar rapi\n",
        "sorted_vocab = sorted(list(all_words))\n",
        "\n",
        "# Buat DataFrame (tabel) kosong sebagai incidence matrix\n",
        "incidence_matrix = pd.DataFrame(0, index=sorted_vocab, columns=documents.keys())\n",
        "\n",
        "# Isi matrix dengan nilai 1 jika kata ada di dalam dokumen\n",
        "for term in sorted_vocab:\n",
        "    for doc_name, doc_content in documents.items():\n",
        "        if term in doc_content.lower().split():\n",
        "            incidence_matrix.loc[term, doc_name] = 1\n",
        "\n",
        "print(\"===== Incidence Matrix =====\")\n",
        "print(incidence_matrix)\n",
        "print(\"\\n\" + \"=\"*40 + \"\\n\") # spasi pemisah\n",
        "\n",
        "# BAGIAN 2: MENJAWAB QUERY BOOLEAN\n",
        "\n",
        "# Ambil vektor (baris) untuk setiap kata kunci dari incidence matrix\n",
        "vec_home = incidence_matrix.loc['home']\n",
        "vec_sales = incidence_matrix.loc['sales']\n",
        "vec_july = incidence_matrix.loc['july']\n",
        "\n",
        "# Query 1: Home AND Sales AND NOT July\n",
        "print(\"===== Query 1: Home AND Sales AND NOT July =====\")\n",
        "vec_not_july = 1 - vec_july\n",
        "result_1 = vec_home & vec_sales & vec_not_july\n",
        "matching_docs_1 = result_1[result_1 == 1].index.tolist()\n",
        "print(f\"Dokumen yang cocok: {matching_docs_1 if matching_docs_1 else 'Tidak ada'}\")\n",
        "\n",
        "# Query 2: Home AND July AND NOT Sales\n",
        "print(\"\\n===== Query 2: Home AND July AND NOT Sales =====\")\n",
        "vec_not_sales = 1 - vec_sales\n",
        "result_2 = vec_home & vec_july & vec_not_sales\n",
        "matching_docs_2 = result_2[result_2 == 1].index.tolist()\n",
        "print(f\"Dokumen yang cocok: {matching_docs_2 if matching_docs_2 else 'Tidak ada'}\")"
      ]
    },
    {
      "cell_type": "code",
      "source": [],
      "metadata": {
        "id": "nzLnzcs1oqrd"
      },
      "execution_count": 2,
      "outputs": []
    }
  ]
}