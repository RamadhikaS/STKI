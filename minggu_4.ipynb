{
  "nbformat": 4,
  "nbformat_minor": 0,
  "metadata": {
    "colab": {
      "provenance": [],
      "authorship_tag": "ABX9TyNeBuUPa92JaoZqfAlyj2t4",
      "include_colab_link": true
    },
    "kernelspec": {
      "name": "python3",
      "display_name": "Python 3"
    },
    "language_info": {
      "name": "python"
    }
  },
  "cells": [
    {
      "cell_type": "markdown",
      "metadata": {
        "id": "view-in-github",
        "colab_type": "text"
      },
      "source": [
        "<a href=\"https://colab.research.google.com/github/RamadhikaS/STKI/blob/main/minggu_4.ipynb\" target=\"_parent\"><img src=\"https://colab.research.google.com/assets/colab-badge.svg\" alt=\"Open In Colab\"/></a>"
      ]
    },
    {
      "cell_type": "code",
      "execution_count": 3,
      "metadata": {
        "colab": {
          "base_uri": "https://localhost:8080/"
        },
        "id": "DiwC_IR9qMgG",
        "outputId": "db337fda-8bd3-4f54-8432-5fb73e1106a7"
      },
      "outputs": [
        {
          "output_type": "stream",
          "name": "stdout",
          "text": [
            "Vocabulary: ['bewarna', 'bunga', 'coklat', 'daun', 'hijau', 'rumput']\n",
            "\n",
            "===== Term-Document Matrix (Vektor) =====\n",
            "         Dokumen 1  Dokumen 2  Dokumen 3  Query\n",
            "bewarna          1          1          1      0\n",
            "bunga            0          1          0      0\n",
            "coklat           1          0          0      0\n",
            "daun             1          0          0      1\n",
            "hijau            0          1          1      1\n",
            "rumput           0          0          1      0\n",
            "\n",
            "========================================\n",
            "\n",
            "===== Hasil Perhitungan Cosine Similarity =====\n",
            "Kemiripan Query dengan Dokumen 1: 0.4082\n",
            "Kemiripan Query dengan Dokumen 2: 0.4082\n",
            "Kemiripan Query dengan Dokumen 3: 0.4082\n",
            "\n",
            "========================================\n",
            "\n",
            "===== Kesimpulan =====\n",
            "Skor kemiripan tertinggi adalah 0.4082.\n",
            "Jadi, dokumen yang paling relevan dengan query adalah: Dokumen 1\n",
            "Terdapat beberapa dokumen dengan skor tertinggi yang sama: ['Dokumen 1', 'Dokumen 2', 'Dokumen 3']\n"
          ]
        }
      ],
      "source": [
        "# Ramadhika Surya Purmiadanu\n",
        "# A11.2022.14116\n",
        "\n",
        "import pandas as pd\n",
        "import numpy as np\n",
        "\n",
        "# PERSIAPAN DATA DAN VEKTORISASI\n",
        "\n",
        "# Data dari soal\n",
        "dokumen1 = \"Daun bewarna coklat\"\n",
        "dokumen2 = \"Bunga bewarna hijau\"\n",
        "dokumen3 = \"Rumput bewarna hijau\"\n",
        "query = \"Daun hijau\"\n",
        "\n",
        "# Gabungkan semua teks untuk membuat kamus kata (vocabulary)\n",
        "semua_teks = [dokumen1, dokumen2, dokumen3, query]\n",
        "semua_kata = set()\n",
        "for teks in semua_teks:\n",
        "    # .lower() untuk membuat semua kata menjadi huruf kecil\n",
        "    # .split() untuk memecah kalimat menjadi kata\n",
        "    semua_kata.update(teks.lower().split())\n",
        "\n",
        "# Urutkan vocabulary agar konsisten\n",
        "vocabulary = sorted(list(semua_kata))\n",
        "print(f\"Vocabulary: {vocabulary}\\n\")\n",
        "\n",
        "# Membuat Term-Document Matrix (mengubah teks menjadi vektor)\n",
        "# Baris adalah kata (term), kolom adalah dokumen/query\n",
        "kolom_nama = ['Dokumen 1', 'Dokumen 2', 'Dokumen 3', 'Query']\n",
        "df_vektor = pd.DataFrame(0, index=vocabulary, columns=kolom_nama)\n",
        "\n",
        "# Isi matrix dengan frekuensi kata (Term Frequency)\n",
        "for nama, teks in zip(kolom_nama, semua_teks):\n",
        "    for kata in teks.lower().split():\n",
        "        if kata in df_vektor.index:\n",
        "            df_vektor.loc[kata, nama] += 1\n",
        "\n",
        "print(\"===== Term-Document Matrix (Vektor) =====\")\n",
        "print(df_vektor)\n",
        "print(\"\\n\" + \"=\"*40 + \"\\n\")\n",
        "\n",
        "\n",
        "# MENGHITUNG COSINE SIMILARITY\n",
        "\n",
        "# Ambil vektor dari DataFrame\n",
        "vektor_query = df_vektor['Query'].values\n",
        "vektor_doc1 = df_vektor['Dokumen 1'].values\n",
        "vektor_doc2 = df_vektor['Dokumen 2'].values\n",
        "vektor_doc3 = df_vektor['Dokumen 3'].values\n",
        "\n",
        "# Fungsi untuk menghitung cosine similarity\n",
        "def hitung_cosine_similarity(vec1, vec2):\n",
        "    dot_product = np.dot(vec1, vec2)\n",
        "    norm_vec1 = np.linalg.norm(vec1)\n",
        "    norm_vec2 = np.linalg.norm(vec2)\n",
        "\n",
        "    # Hindari pembagian dengan nol jika ada vektor kosong\n",
        "    if norm_vec1 == 0 or norm_vec2 == 0:\n",
        "        return 0\n",
        "\n",
        "    return dot_product / (norm_vec1 * norm_vec2)\n",
        "\n",
        "# Hitung similarity antara query dengan setiap dokumen\n",
        "similarity_doc1 = hitung_cosine_similarity(vektor_query, vektor_doc1)\n",
        "similarity_doc2 = hitung_cosine_similarity(vektor_query, vektor_doc2)\n",
        "similarity_doc3 = hitung_cosine_similarity(vektor_query, vektor_doc3)\n",
        "\n",
        "print(\"===== Hasil Perhitungan Cosine Similarity =====\")\n",
        "print(f\"Kemiripan Query dengan Dokumen 1: {similarity_doc1:.4f}\")\n",
        "print(f\"Kemiripan Query dengan Dokumen 2: {similarity_doc2:.4f}\")\n",
        "print(f\"Kemiripan Query dengan Dokumen 3: {similarity_doc3:.4f}\")\n",
        "print(\"\\n\" + \"=\"*40 + \"\\n\")\n",
        "\n",
        "\n",
        "# MENENTUKAN HASIL AKHIR\n",
        "\n",
        "hasil = {\n",
        "    \"Dokumen 1\": similarity_doc1,\n",
        "    \"Dokumen 2\": similarity_doc2,\n",
        "    \"Dokumen 3\": similarity_doc3\n",
        "}\n",
        "\n",
        "# Cari dokumen dengan skor tertinggi\n",
        "dokumen_terpilih = max(hasil, key=hasil.get)\n",
        "skor_tertinggi = hasil[dokumen_terpilih]\n",
        "\n",
        "print(\"===== Kesimpulan =====\")\n",
        "print(f\"Skor kemiripan tertinggi adalah {skor_tertinggi:.4f}.\")\n",
        "print(f\"Jadi, dokumen yang paling relevan dengan query adalah: {dokumen_terpilih}\")\n",
        "\n",
        "# Jika ada skor yang sama, kita bisa tampilkan semua\n",
        "dokumen_relevan = [doc for doc, score in hasil.items() if score == skor_tertinggi]\n",
        "if len(dokumen_relevan) > 1:\n",
        "    print(f\"Terdapat beberapa dokumen dengan skor tertinggi yang sama: {dokumen_relevan}\")"
      ]
    },
    {
      "cell_type": "code",
      "source": [],
      "metadata": {
        "id": "4mOMrcqnqSqH"
      },
      "execution_count": null,
      "outputs": []
    }
  ]
}